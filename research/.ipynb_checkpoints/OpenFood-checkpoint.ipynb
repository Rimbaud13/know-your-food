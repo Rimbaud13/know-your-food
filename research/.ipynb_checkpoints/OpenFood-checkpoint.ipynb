{
 "cells": [
  {
   "cell_type": "code",
   "execution_count": 346,
   "metadata": {
    "collapsed": true
   },
   "outputs": [],
   "source": [
    "import numpy as np\n",
    "import matplotlib.pyplot as plt\n",
    "import pandas as pd\n",
    "import word2vec\n",
    "import re\n",
    "import json\n",
    "from elasticsearch import Elasticsearch"
   ]
  },
  {
   "cell_type": "code",
   "execution_count": 347,
   "metadata": {
    "collapsed": true
   },
   "outputs": [],
   "source": [
    "es = Elasticsearch(hosts=['163.172.173.89:53837'])"
   ]
  },
  {
   "cell_type": "code",
   "execution_count": 348,
   "metadata": {
    "collapsed": true
   },
   "outputs": [],
   "source": [
    "products = pd.read_csv('data/products.csv', index_col='id')\n",
    "nutrients = pd.read_csv('data/nutrients.csv', index_col='id')\n",
    "product_nutrients = pd.read_csv('data/product_nutrients.csv', index_col=['product_id', 'nutrient_id'])\n",
    "categories = pd.read_csv('data/categories.csv', index_col='id')\n",
    "categorisations = pd.read_csv('data/categorisations.csv', index_col=['category_id', 'categorisable_id'])\n",
    "images = pd.read_csv('data/images.csv', index_col='id')"
   ]
  },
  {
   "cell_type": "code",
   "execution_count": 349,
   "metadata": {
    "collapsed": false
   },
   "outputs": [],
   "source": [
    "def parse_fr(value):\n",
    "    if pd.isnull(value):\n",
    "        return np.nan\n",
    "    langs = {lang: name for lang, name in re.findall(r'\"([^\"]+)\" ?=> ?\"([^\"]+)\"', value)}\n",
    "    return langs.get('fr', np.nan)"
   ]
  },
  {
   "cell_type": "code",
   "execution_count": 350,
   "metadata": {
    "collapsed": true
   },
   "outputs": [],
   "source": [
    "def join(i1, k1, i2, k2):\n",
    "    return i1.reset_index().join(i2.reset_index().set_index(k2), on=k1, lsuffix='_')"
   ]
  },
  {
   "cell_type": "code",
   "execution_count": 351,
   "metadata": {
    "collapsed": false
   },
   "outputs": [
    {
     "data": {
      "text/plain": [
       "2028"
      ]
     },
     "execution_count": 351,
     "metadata": {},
     "output_type": "execute_result"
    }
   ],
   "source": [
    "products['fr'] = products.name_translations.apply(parse_fr)\n",
    "products.fr.count()"
   ]
  },
  {
   "cell_type": "code",
   "execution_count": 352,
   "metadata": {
    "collapsed": false
   },
   "outputs": [
    {
     "data": {
      "text/plain": [
       "40"
      ]
     },
     "execution_count": 352,
     "metadata": {},
     "output_type": "execute_result"
    }
   ],
   "source": [
    "nutrients['fr'] = nutrients.name_translations.apply(parse_fr)\n",
    "nutrients.fr.count()"
   ]
  },
  {
   "cell_type": "code",
   "execution_count": 353,
   "metadata": {
    "collapsed": false
   },
   "outputs": [
    {
     "data": {
      "text/html": [
       "<div>\n",
       "<table border=\"1\" class=\"dataframe\">\n",
       "  <thead>\n",
       "    <tr style=\"text-align: right;\">\n",
       "      <th></th>\n",
       "      <th>fr</th>\n",
       "      <th>barcode</th>\n",
       "      <th>unit</th>\n",
       "      <th>quantity</th>\n",
       "      <th>portion_quantity</th>\n",
       "      <th>alcool_by_volume</th>\n",
       "    </tr>\n",
       "    <tr>\n",
       "      <th>id</th>\n",
       "      <th></th>\n",
       "      <th></th>\n",
       "      <th></th>\n",
       "      <th></th>\n",
       "      <th></th>\n",
       "      <th></th>\n",
       "    </tr>\n",
       "  </thead>\n",
       "  <tbody>\n",
       "    <tr>\n",
       "      <th>1192</th>\n",
       "      <td>Saint-Omer</td>\n",
       "      <td>3162330052641</td>\n",
       "      <td>ml</td>\n",
       "      <td>500.0</td>\n",
       "      <td>-1.0</td>\n",
       "      <td>5.0</td>\n",
       "    </tr>\n",
       "    <tr>\n",
       "      <th>1194</th>\n",
       "      <td>Heineken</td>\n",
       "      <td>7610055020750</td>\n",
       "      <td>g</td>\n",
       "      <td>500.0</td>\n",
       "      <td>-1.0</td>\n",
       "      <td>5.0</td>\n",
       "    </tr>\n",
       "    <tr>\n",
       "      <th>1125</th>\n",
       "      <td>granini : orange-mangue</td>\n",
       "      <td>7610235004884</td>\n",
       "      <td>ml</td>\n",
       "      <td>1000.0</td>\n",
       "      <td>-1.0</td>\n",
       "      <td>0.0</td>\n",
       "    </tr>\n",
       "    <tr>\n",
       "      <th>1168</th>\n",
       "      <td>AARBERG: Sucre en morceaux</td>\n",
       "      <td>7610278041105</td>\n",
       "      <td>g</td>\n",
       "      <td>1000.0</td>\n",
       "      <td>-1.0</td>\n",
       "      <td>0.0</td>\n",
       "    </tr>\n",
       "    <tr>\n",
       "      <th>1153</th>\n",
       "      <td>Belle France : Lentilles, cuisinées</td>\n",
       "      <td>3258561211534</td>\n",
       "      <td>g</td>\n",
       "      <td>410.0</td>\n",
       "      <td>200.0</td>\n",
       "      <td>0.0</td>\n",
       "    </tr>\n",
       "  </tbody>\n",
       "</table>\n",
       "</div>"
      ],
      "text/plain": [
       "                                       fr        barcode unit  quantity  \\\n",
       "id                                                                        \n",
       "1192                           Saint-Omer  3162330052641   ml     500.0   \n",
       "1194                             Heineken  7610055020750    g     500.0   \n",
       "1125              granini : orange-mangue  7610235004884   ml    1000.0   \n",
       "1168           AARBERG: Sucre en morceaux  7610278041105    g    1000.0   \n",
       "1153  Belle France : Lentilles, cuisinées  3258561211534    g     410.0   \n",
       "\n",
       "      portion_quantity  alcool_by_volume  \n",
       "id                                        \n",
       "1192              -1.0               5.0  \n",
       "1194              -1.0               5.0  \n",
       "1125              -1.0               0.0  \n",
       "1168              -1.0               0.0  \n",
       "1153             200.0               0.0  "
      ]
     },
     "execution_count": 353,
     "metadata": {},
     "output_type": "execute_result"
    }
   ],
   "source": [
    "fld_products = ['fr', 'barcode', 'unit', 'quantity', 'portion_quantity', 'alcool_by_volume']\n",
    "sel_products = products[pd.notnull(products.fr)][fld_products].fillna(value=-1)\n",
    "sel_products.head()"
   ]
  },
  {
   "cell_type": "code",
   "execution_count": 354,
   "metadata": {
    "collapsed": false
   },
   "outputs": [
    {
     "data": {
      "text/html": [
       "<div>\n",
       "<table border=\"1\" class=\"dataframe\">\n",
       "  <thead>\n",
       "    <tr style=\"text-align: right;\">\n",
       "      <th></th>\n",
       "      <th>product_id</th>\n",
       "      <th>fr</th>\n",
       "      <th>per_portion</th>\n",
       "      <th>per_day</th>\n",
       "      <th>per_hundred</th>\n",
       "      <th>unit</th>\n",
       "    </tr>\n",
       "  </thead>\n",
       "  <tbody>\n",
       "    <tr>\n",
       "      <th>0</th>\n",
       "      <td>971</td>\n",
       "      <td>Énergie</td>\n",
       "      <td>117.0</td>\n",
       "      <td>6.0</td>\n",
       "      <td>2430.0</td>\n",
       "      <td>kJ</td>\n",
       "    </tr>\n",
       "    <tr>\n",
       "      <th>1</th>\n",
       "      <td>971</td>\n",
       "      <td>Énergie (kCal)</td>\n",
       "      <td>-1.0</td>\n",
       "      <td>-1.0</td>\n",
       "      <td>581.0</td>\n",
       "      <td>kCal</td>\n",
       "    </tr>\n",
       "    <tr>\n",
       "      <th>2</th>\n",
       "      <td>971</td>\n",
       "      <td>Protéines</td>\n",
       "      <td>2.0</td>\n",
       "      <td>4.0</td>\n",
       "      <td>10.0</td>\n",
       "      <td>g</td>\n",
       "    </tr>\n",
       "    <tr>\n",
       "      <th>3</th>\n",
       "      <td>971</td>\n",
       "      <td>Matières grasses</td>\n",
       "      <td>8.0</td>\n",
       "      <td>2.0</td>\n",
       "      <td>42.0</td>\n",
       "      <td>g</td>\n",
       "    </tr>\n",
       "    <tr>\n",
       "      <th>4</th>\n",
       "      <td>971</td>\n",
       "      <td>Glucides</td>\n",
       "      <td>7.0</td>\n",
       "      <td>3.0</td>\n",
       "      <td>38.0</td>\n",
       "      <td>g</td>\n",
       "    </tr>\n",
       "  </tbody>\n",
       "</table>\n",
       "</div>"
      ],
      "text/plain": [
       "   product_id                fr  per_portion  per_day  per_hundred  unit\n",
       "0         971           Énergie        117.0      6.0       2430.0    kJ\n",
       "1         971    Énergie (kCal)         -1.0     -1.0        581.0  kCal\n",
       "2         971         Protéines          2.0      4.0         10.0     g\n",
       "3         971  Matières grasses          8.0      2.0         42.0     g\n",
       "4         971          Glucides          7.0      3.0         38.0     g"
      ]
     },
     "execution_count": 354,
     "metadata": {},
     "output_type": "execute_result"
    }
   ],
   "source": [
    "fld_nutrients = ['product_id', 'fr', 'per_portion', 'per_day', 'per_hundred', 'unit']\n",
    "sel_nutrients = join(product_nutrients, 'nutrient_id', nutrients, 'id')[fld_nutrients].fillna(value=-1)\n",
    "sel_nutrients.head()"
   ]
  },
  {
   "cell_type": "code",
   "execution_count": 355,
   "metadata": {
    "collapsed": false
   },
   "outputs": [],
   "source": [
    "config = { \n",
    "    'index': {\n",
    "        '_index': 'kyf',\n",
    "        '_type': 'default'\n",
    "    }\n",
    "}\n",
    "prods = [config]\n",
    "for idx, p in sel_products.iterrows():\n",
    "    obj = p.to_dict()\n",
    "    obj['nutrients'] = {}\n",
    "    for _, nut in sel_nutrients[sel_nutrients.product_id == idx].iterrows():\n",
    "        label = nut['fr']\n",
    "        del nut['fr']\n",
    "        obj['nutrients'][label] = nut.to_dict()\n",
    "    prods.append(obj)"
   ]
  },
  {
   "cell_type": "code",
   "execution_count": 356,
   "metadata": {
    "collapsed": false
   },
   "outputs": [
    {
     "data": {
      "text/plain": [
       "2029"
      ]
     },
     "execution_count": 356,
     "metadata": {},
     "output_type": "execute_result"
    }
   ],
   "source": [
    "len(prods)"
   ]
  },
  {
   "cell_type": "code",
   "execution_count": 357,
   "metadata": {
    "collapsed": false
   },
   "outputs": [
    {
     "name": "stderr",
     "output_type": "stream",
     "text": [
      "POST http://163.172.173.89:53837/_bulk [status:400 request:3.780s]\n"
     ]
    },
    {
     "ename": "RequestError",
     "evalue": "TransportError(400, 'illegal_argument_exception', 'Malformed action/metadata line [5], expected a simple value for field [Matières grasses] but found [START_OBJECT]')",
     "output_type": "error",
     "traceback": [
      "\u001b[0;31m---------------------------------------------------------------------------\u001b[0m",
      "\u001b[0;31mRequestError\u001b[0m                              Traceback (most recent call last)",
      "\u001b[0;32m<ipython-input-357-154ac4b85f56>\u001b[0m in \u001b[0;36m<module>\u001b[0;34m()\u001b[0m\n\u001b[0;32m----> 1\u001b[0;31m \u001b[0mes\u001b[0m\u001b[0;34m.\u001b[0m\u001b[0mbulk\u001b[0m\u001b[0;34m(\u001b[0m\u001b[0mprods\u001b[0m\u001b[0;34m)\u001b[0m\u001b[0;34m\u001b[0m\u001b[0m\n\u001b[0m",
      "\u001b[0;32m/usr/local/lib/python3.5/site-packages/elasticsearch/client/utils.py\u001b[0m in \u001b[0;36m_wrapped\u001b[0;34m(*args, **kwargs)\u001b[0m\n\u001b[1;32m     69\u001b[0m                 \u001b[0;32mif\u001b[0m \u001b[0mp\u001b[0m \u001b[0;32min\u001b[0m \u001b[0mkwargs\u001b[0m\u001b[0;34m:\u001b[0m\u001b[0;34m\u001b[0m\u001b[0m\n\u001b[1;32m     70\u001b[0m                     \u001b[0mparams\u001b[0m\u001b[0;34m[\u001b[0m\u001b[0mp\u001b[0m\u001b[0;34m]\u001b[0m \u001b[0;34m=\u001b[0m \u001b[0mkwargs\u001b[0m\u001b[0;34m.\u001b[0m\u001b[0mpop\u001b[0m\u001b[0;34m(\u001b[0m\u001b[0mp\u001b[0m\u001b[0;34m)\u001b[0m\u001b[0;34m\u001b[0m\u001b[0m\n\u001b[0;32m---> 71\u001b[0;31m             \u001b[0;32mreturn\u001b[0m \u001b[0mfunc\u001b[0m\u001b[0;34m(\u001b[0m\u001b[0;34m*\u001b[0m\u001b[0margs\u001b[0m\u001b[0;34m,\u001b[0m \u001b[0mparams\u001b[0m\u001b[0;34m=\u001b[0m\u001b[0mparams\u001b[0m\u001b[0;34m,\u001b[0m \u001b[0;34m**\u001b[0m\u001b[0mkwargs\u001b[0m\u001b[0;34m)\u001b[0m\u001b[0;34m\u001b[0m\u001b[0m\n\u001b[0m\u001b[1;32m     72\u001b[0m         \u001b[0;32mreturn\u001b[0m \u001b[0m_wrapped\u001b[0m\u001b[0;34m\u001b[0m\u001b[0m\n\u001b[1;32m     73\u001b[0m     \u001b[0;32mreturn\u001b[0m \u001b[0m_wrapper\u001b[0m\u001b[0;34m\u001b[0m\u001b[0m\n",
      "\u001b[0;32m/usr/local/lib/python3.5/site-packages/elasticsearch/client/__init__.py\u001b[0m in \u001b[0;36mbulk\u001b[0;34m(self, body, index, doc_type, params)\u001b[0m\n\u001b[1;32m   1094\u001b[0m             \u001b[0;32mraise\u001b[0m \u001b[0mValueError\u001b[0m\u001b[0;34m(\u001b[0m\u001b[0;34m\"Empty value passed for a required argument 'body'.\"\u001b[0m\u001b[0;34m)\u001b[0m\u001b[0;34m\u001b[0m\u001b[0m\n\u001b[1;32m   1095\u001b[0m         return self.transport.perform_request('POST', _make_path(index,\n\u001b[0;32m-> 1096\u001b[0;31m             doc_type, '_bulk'), params=params, body=self._bulk_body(body))\n\u001b[0m\u001b[1;32m   1097\u001b[0m \u001b[0;34m\u001b[0m\u001b[0m\n\u001b[1;32m   1098\u001b[0m     \u001b[0;34m@\u001b[0m\u001b[0mquery_params\u001b[0m\u001b[0;34m(\u001b[0m\u001b[0;34m'max_concurrent_searches'\u001b[0m\u001b[0;34m,\u001b[0m \u001b[0;34m'search_type'\u001b[0m\u001b[0;34m)\u001b[0m\u001b[0;34m\u001b[0m\u001b[0m\n",
      "\u001b[0;32m/usr/local/lib/python3.5/site-packages/elasticsearch/transport.py\u001b[0m in \u001b[0;36mperform_request\u001b[0;34m(self, method, url, params, body)\u001b[0m\n\u001b[1;32m    325\u001b[0m \u001b[0;34m\u001b[0m\u001b[0m\n\u001b[1;32m    326\u001b[0m             \u001b[0;32mtry\u001b[0m\u001b[0;34m:\u001b[0m\u001b[0;34m\u001b[0m\u001b[0m\n\u001b[0;32m--> 327\u001b[0;31m                 \u001b[0mstatus\u001b[0m\u001b[0;34m,\u001b[0m \u001b[0mheaders\u001b[0m\u001b[0;34m,\u001b[0m \u001b[0mdata\u001b[0m \u001b[0;34m=\u001b[0m \u001b[0mconnection\u001b[0m\u001b[0;34m.\u001b[0m\u001b[0mperform_request\u001b[0m\u001b[0;34m(\u001b[0m\u001b[0mmethod\u001b[0m\u001b[0;34m,\u001b[0m \u001b[0murl\u001b[0m\u001b[0;34m,\u001b[0m \u001b[0mparams\u001b[0m\u001b[0;34m,\u001b[0m \u001b[0mbody\u001b[0m\u001b[0;34m,\u001b[0m \u001b[0mignore\u001b[0m\u001b[0;34m=\u001b[0m\u001b[0mignore\u001b[0m\u001b[0;34m,\u001b[0m \u001b[0mtimeout\u001b[0m\u001b[0;34m=\u001b[0m\u001b[0mtimeout\u001b[0m\u001b[0;34m)\u001b[0m\u001b[0;34m\u001b[0m\u001b[0m\n\u001b[0m\u001b[1;32m    328\u001b[0m \u001b[0;34m\u001b[0m\u001b[0m\n\u001b[1;32m    329\u001b[0m             \u001b[0;32mexcept\u001b[0m \u001b[0mTransportError\u001b[0m \u001b[0;32mas\u001b[0m \u001b[0me\u001b[0m\u001b[0;34m:\u001b[0m\u001b[0;34m\u001b[0m\u001b[0m\n",
      "\u001b[0;32m/usr/local/lib/python3.5/site-packages/elasticsearch/connection/http_urllib3.py\u001b[0m in \u001b[0;36mperform_request\u001b[0;34m(self, method, url, params, body, timeout, ignore)\u001b[0m\n\u001b[1;32m    122\u001b[0m         \u001b[0;32mif\u001b[0m \u001b[0;32mnot\u001b[0m \u001b[0;34m(\u001b[0m\u001b[0;36m200\u001b[0m \u001b[0;34m<=\u001b[0m \u001b[0mresponse\u001b[0m\u001b[0;34m.\u001b[0m\u001b[0mstatus\u001b[0m \u001b[0;34m<\u001b[0m \u001b[0;36m300\u001b[0m\u001b[0;34m)\u001b[0m \u001b[0;32mand\u001b[0m \u001b[0mresponse\u001b[0m\u001b[0;34m.\u001b[0m\u001b[0mstatus\u001b[0m \u001b[0;32mnot\u001b[0m \u001b[0;32min\u001b[0m \u001b[0mignore\u001b[0m\u001b[0;34m:\u001b[0m\u001b[0;34m\u001b[0m\u001b[0m\n\u001b[1;32m    123\u001b[0m             \u001b[0mself\u001b[0m\u001b[0;34m.\u001b[0m\u001b[0mlog_request_fail\u001b[0m\u001b[0;34m(\u001b[0m\u001b[0mmethod\u001b[0m\u001b[0;34m,\u001b[0m \u001b[0mfull_url\u001b[0m\u001b[0;34m,\u001b[0m \u001b[0murl\u001b[0m\u001b[0;34m,\u001b[0m \u001b[0mbody\u001b[0m\u001b[0;34m,\u001b[0m \u001b[0mduration\u001b[0m\u001b[0;34m,\u001b[0m \u001b[0mresponse\u001b[0m\u001b[0;34m.\u001b[0m\u001b[0mstatus\u001b[0m\u001b[0;34m,\u001b[0m \u001b[0mraw_data\u001b[0m\u001b[0;34m)\u001b[0m\u001b[0;34m\u001b[0m\u001b[0m\n\u001b[0;32m--> 124\u001b[0;31m             \u001b[0mself\u001b[0m\u001b[0;34m.\u001b[0m\u001b[0m_raise_error\u001b[0m\u001b[0;34m(\u001b[0m\u001b[0mresponse\u001b[0m\u001b[0;34m.\u001b[0m\u001b[0mstatus\u001b[0m\u001b[0;34m,\u001b[0m \u001b[0mraw_data\u001b[0m\u001b[0;34m)\u001b[0m\u001b[0;34m\u001b[0m\u001b[0m\n\u001b[0m\u001b[1;32m    125\u001b[0m \u001b[0;34m\u001b[0m\u001b[0m\n\u001b[1;32m    126\u001b[0m         self.log_request_success(method, full_url, url, body, response.status,\n",
      "\u001b[0;32m/usr/local/lib/python3.5/site-packages/elasticsearch/connection/base.py\u001b[0m in \u001b[0;36m_raise_error\u001b[0;34m(self, status_code, raw_data)\u001b[0m\n\u001b[1;32m    120\u001b[0m             \u001b[0mlogger\u001b[0m\u001b[0;34m.\u001b[0m\u001b[0mwarning\u001b[0m\u001b[0;34m(\u001b[0m\u001b[0;34m'Undecodable raw error response from server: %s'\u001b[0m\u001b[0;34m,\u001b[0m \u001b[0merr\u001b[0m\u001b[0;34m)\u001b[0m\u001b[0;34m\u001b[0m\u001b[0m\n\u001b[1;32m    121\u001b[0m \u001b[0;34m\u001b[0m\u001b[0m\n\u001b[0;32m--> 122\u001b[0;31m         \u001b[0;32mraise\u001b[0m \u001b[0mHTTP_EXCEPTIONS\u001b[0m\u001b[0;34m.\u001b[0m\u001b[0mget\u001b[0m\u001b[0;34m(\u001b[0m\u001b[0mstatus_code\u001b[0m\u001b[0;34m,\u001b[0m \u001b[0mTransportError\u001b[0m\u001b[0;34m)\u001b[0m\u001b[0;34m(\u001b[0m\u001b[0mstatus_code\u001b[0m\u001b[0;34m,\u001b[0m \u001b[0merror_message\u001b[0m\u001b[0;34m,\u001b[0m \u001b[0madditional_info\u001b[0m\u001b[0;34m)\u001b[0m\u001b[0;34m\u001b[0m\u001b[0m\n\u001b[0m\u001b[1;32m    123\u001b[0m \u001b[0;34m\u001b[0m\u001b[0m\n\u001b[1;32m    124\u001b[0m \u001b[0;34m\u001b[0m\u001b[0m\n",
      "\u001b[0;31mRequestError\u001b[0m: TransportError(400, 'illegal_argument_exception', 'Malformed action/metadata line [5], expected a simple value for field [Matières grasses] but found [START_OBJECT]')"
     ]
    }
   ],
   "source": [
    "es.bulk(prods)"
   ]
  },
  {
   "cell_type": "code",
   "execution_count": null,
   "metadata": {
    "collapsed": true
   },
   "outputs": [],
   "source": []
  },
  {
   "cell_type": "code",
   "execution_count": null,
   "metadata": {
    "collapsed": true
   },
   "outputs": [],
   "source": []
  },
  {
   "cell_type": "code",
   "execution_count": null,
   "metadata": {
    "collapsed": true
   },
   "outputs": [],
   "source": []
  },
  {
   "cell_type": "code",
   "execution_count": null,
   "metadata": {
    "collapsed": true
   },
   "outputs": [],
   "source": []
  },
  {
   "cell_type": "code",
   "execution_count": 29,
   "metadata": {
    "collapsed": false
   },
   "outputs": [],
   "source": [
    "data = re.sub('\\s+', ' ', re.sub('[:\\.\\(\\)0123456789%,–\\?\\\\\\&\\']', '', ' '.join(product_fr.values).replace('-', ' ').lower()))"
   ]
  },
  {
   "cell_type": "code",
   "execution_count": 35,
   "metadata": {
    "collapsed": true
   },
   "outputs": [],
   "source": [
    "with open('data/names.txt', 'w') as f:\n",
    "    f.write(data)\n",
    "    f.close()"
   ]
  },
  {
   "cell_type": "code",
   "execution_count": 36,
   "metadata": {
    "collapsed": false
   },
   "outputs": [
    {
     "name": "stdout",
     "output_type": "stream",
     "text": [
      "b'Starting training using file data/names.txt\\n'b'\\n'b'Vocab size (unigrams + bigrams): 4479\\n'b'Words in train file: 9084\\n'"
     ]
    }
   ],
   "source": [
    "word2vec.word2phrase('data/names.txt', 'data/names-phrases.txt', verbose=True)"
   ]
  },
  {
   "cell_type": "code",
   "execution_count": 37,
   "metadata": {
    "collapsed": false
   },
   "outputs": [
    {
     "name": "stdout",
     "output_type": "stream",
     "text": [
      "b'Starting training using file data/names.txt\\n'b'Vocab size: 355\\n'b'Words in train file: 6245\\n'"
     ]
    }
   ],
   "source": [
    "word2vec.word2vec('data/names.txt', 'data/names-model.bin', size=100, verbose=True)"
   ]
  },
  {
   "cell_type": "code",
   "execution_count": 38,
   "metadata": {
    "collapsed": false
   },
   "outputs": [
    {
     "name": "stdout",
     "output_type": "stream",
     "text": [
      "b'Starting training using file data/names.txt\\n'b'Vocab size: 355\\n'b'Words in train file: 6245\\n'"
     ]
    }
   ],
   "source": [
    "word2vec.word2clusters('data/names.txt', 'data/names-clusters.txt', 100, verbose=True)"
   ]
  },
  {
   "cell_type": "code",
   "execution_count": 39,
   "metadata": {
    "collapsed": true
   },
   "outputs": [],
   "source": [
    "model = word2vec.load('data/names-model.bin')"
   ]
  },
  {
   "cell_type": "code",
   "execution_count": 40,
   "metadata": {
    "collapsed": true
   },
   "outputs": [],
   "source": [
    "clusters = word2vec.load_clusters('data/names-clusters.txt')"
   ]
  },
  {
   "cell_type": "code",
   "execution_count": 41,
   "metadata": {
    "collapsed": false
   },
   "outputs": [
    {
     "data": {
      "text/plain": [
       "array(['</s>', 'de', 'au', 'et', 'à', 'coop', 'naturaplan', 'aux', 'la',\n",
       "       'avec', 'bio', 'chocolat', 'betty', 'bossi', 'légumes', 'crème',\n",
       "       'lait', 'prix', 'hipp', 'pommes', 'vanille', 'poulet',\n",
       "       'qualitéprix', 'alnatura', 'mélange', 'sauce', 'pomme', 'migros',\n",
       "       'qualité', 'fruits', 'en', 'glace', 'glacée', 'fromage', 'pour',\n",
       "       'sucre', 'oeufs', 'droetker', 'thé', 'terre', 'riz', 'beurre',\n",
       "       'petits', 'classic', 'm', 'viande', 'fraise', 'du', 'tomate',\n",
       "       'nature', 'salade', 'mini', 'mix', 'tomates', 'des', 'pâte', 'pois',\n",
       "       'nestle', 'carottes', 'müesli', 'belle', 'knorr', 'france', 'pain',\n",
       "       'barilla', 'pizza', 'suisses', 'cacao', 'citron', 'extra', 'noir',\n",
       "       'blévita', 'farine', 'boeuf', 'jambon', 'graines', 'jus', 'les',\n",
       "       'herbes', 'sandwich', 'soup', 'sorbet', 'noisettes', 'miel',\n",
       "       'garantie', 'non', 'le', 'suisse', 'sans', 'cake', 'amandes',\n",
       "       'banane', 'huile', 'orange', 'choco', 'tranches', 'ice', 'veau',\n",
       "       'base', 'baies', 'blanc', 'framboises', 'brioche', 'rouge',\n",
       "       'épinards', 'original', 'pains', 'caramel', 'pâtes', 'champignons',\n",
       "       'flocons', 'ananas', 'coco', 'biscuits', 'pêche', 'pasquier',\n",
       "       'biscuit', 'fruit', 'mangue', 'café', 'maïs', 'purée', 'quick',\n",
       "       'petit', 'sucrées', 'croquant', 'noix', 'céréales', 'risotto',\n",
       "       'terrasuisse', 'boisson', 'velouté', 'porc', 'bell', 'midor',\n",
       "       'pure', 'framboise', 'morceaux', 'mozzarella', 'sun', 'infusion',\n",
       "       'sirop', 'nestlé', 'jogurt', 'goût', 'léger', 'soft', 'cornatur',\n",
       "       'toast', 'blanche', 'abricot', 'sabo', 'g', 'creamamore', 'soupe',\n",
       "       'blé', 'familia', 'marrons', 'crunchy', 'poudre', 'queen',\n",
       "       'cornets', 'american', 'crevettes', 'fin', 'rouges', 'budget',\n",
       "       'séchée', 'x', 'gâteau', 'dinde', 'chicken', 'saucisse', 'easy',\n",
       "       'dessert', 'entier', 'lasagne', 'rose', 'ketchup', 'granini',\n",
       "       'complet', 'pays', 'kambly', 'raclette', 'canne', 'naturafarm',\n",
       "       'basilic', 'préparation', 'ricotta', 'génoise', 'baby', 'uncle',\n",
       "       'bens', 'poire', 'cuisine', 'vermicelles', 'findus', 'tourte',\n",
       "       'fraises', 'bière', 'cocktail', 'crunch', 'gros', 'spaghetti',\n",
       "       'cru', 'zweifel', 'tomato', 'tea', 'demi', 'food', 'couscous',\n",
       "       'smoothie', 'dolive', 'tofu', 'bonbons', 'chocolate', 'ristorante',\n",
       "       'favorites', 'prixgarantie', 'curry', 'frisco', 'muesli', 'sablés',\n",
       "       'burger', 'confiture', 'assugrin', 'mousse', 'bolognese', 'gruyère',\n",
       "       'fondue', 'pamplemousse', 'haricots', 'gomme', 'vin', 'moulu',\n",
       "       'abricots', 'tresse', 'poires', 'davoine', 'chef', 'dorange',\n",
       "       'penne', 'délice', 'mymuesligo', 'complète', 'dépeautre', 'heinz',\n",
       "       'pépites', 'doux', 'sticks', 'grasse', 'glacetta', 'jardinière',\n",
       "       'lipton', 'vert', 'st', 'homemade', 'arôme', 'mi', 'dananas',\n",
       "       'mâcher', 'fraîche', 'chips', 'branches', 'pesto', 'cherry',\n",
       "       'soufflé', 'quinoa', 'saucisses', 'gélifiant', 'saumon', 'sucré',\n",
       "       'larôme', 'mclassic', 'bolognaise', 'di', 'annas', 'moutarde',\n",
       "       'four', 'chou', 'semoule', 'saint', 'emmi', 'frey', 'olives', 'aop',\n",
       "       'gomz', 'écrémé', 'swiss', 'séchées', 'courge', 'polenta', 'drink',\n",
       "       'chinoise', 'vinaigre', 'pur', 'tortellini', 'tournesol',\n",
       "       'valflora', 'pruneaux', 'grains', 'hachés', 'poivre', 'pudding',\n",
       "       'laitue', 'best', 'fine', 'moitiés', 'son', 'clair', 'nique',\n",
       "       'pique', 'fourrés', 'farmer', 'syrah', 'compote', 'lin',\n",
       "       'pâtisserie', 'brut', 'sel', 'express', 'flavour', 'walkers',\n",
       "       'crispy', 'good', 'croissants', 'flûtes', 'feuilletée', 'bon', 'xl',\n",
       "       'soleil', 'gnocchi', 'snack', 'oranges', 'épeautre', 'escalope',\n",
       "       'emincé', 'bouillon', 'kelloggs', 'grain', 'cervelas', 'frites',\n",
       "       'lentilles', 'matière', 'lhuile', 'epinards', 'marché', 'oignons',\n",
       "       'freefrom', 'spätzli', 'bertolli', 'tortelloni', 'salé', 'fenouil',\n",
       "       'cacahuètes'], \n",
       "      dtype='<U78')"
      ]
     },
     "execution_count": 41,
     "metadata": {},
     "output_type": "execute_result"
    }
   ],
   "source": [
    "model.vocab"
   ]
  },
  {
   "cell_type": "code",
   "execution_count": 42,
   "metadata": {
    "collapsed": false
   },
   "outputs": [
    {
     "data": {
      "text/plain": [
       "(355, 100)"
      ]
     },
     "execution_count": 42,
     "metadata": {},
     "output_type": "execute_result"
    }
   ],
   "source": [
    "model.vectors.shape"
   ]
  },
  {
   "cell_type": "code",
   "execution_count": 43,
   "metadata": {
    "collapsed": false
   },
   "outputs": [
    {
     "data": {
      "text/plain": [
       "[('thé', 0.24156979215359647),\n",
       " ('brut', 0.23303440575248086),\n",
       " ('burger', 0.22113394505038694),\n",
       " ('budget', 0.2152204918120521),\n",
       " ('morceaux', 0.21465580162318393),\n",
       " ('cornatur', 0.21333251990601387),\n",
       " ('le', 0.20786125768686398),\n",
       " ('lhuile', 0.2033170147972994),\n",
       " ('barilla', 0.19151669514687542),\n",
       " ('blé', 0.18079573320276193)]"
      ]
     },
     "execution_count": 43,
     "metadata": {},
     "output_type": "execute_result"
    }
   ],
   "source": [
    "indexes, metrics = model.analogy(pos=['snack'], neg=[], n=10)\n",
    "model.generate_response(indexes, metrics).tolist()"
   ]
  },
  {
   "cell_type": "code",
   "execution_count": null,
   "metadata": {
    "collapsed": true
   },
   "outputs": [],
   "source": []
  },
  {
   "cell_type": "code",
   "execution_count": null,
   "metadata": {
    "collapsed": true
   },
   "outputs": [],
   "source": []
  },
  {
   "cell_type": "code",
   "execution_count": null,
   "metadata": {
    "collapsed": true
   },
   "outputs": [],
   "source": []
  },
  {
   "cell_type": "code",
   "execution_count": null,
   "metadata": {
    "collapsed": true
   },
   "outputs": [],
   "source": []
  },
  {
   "cell_type": "code",
   "execution_count": null,
   "metadata": {
    "collapsed": true
   },
   "outputs": [],
   "source": []
  },
  {
   "cell_type": "code",
   "execution_count": null,
   "metadata": {
    "collapsed": true
   },
   "outputs": [],
   "source": []
  },
  {
   "cell_type": "code",
   "execution_count": null,
   "metadata": {
    "collapsed": true
   },
   "outputs": [],
   "source": []
  }
 ],
 "metadata": {
  "kernelspec": {
   "display_name": "Python 3",
   "language": "python",
   "name": "python3"
  },
  "language_info": {
   "codemirror_mode": {
    "name": "ipython",
    "version": 3
   },
   "file_extension": ".py",
   "mimetype": "text/x-python",
   "name": "python",
   "nbconvert_exporter": "python",
   "pygments_lexer": "ipython3",
   "version": "3.5.2"
  }
 },
 "nbformat": 4,
 "nbformat_minor": 1
}
